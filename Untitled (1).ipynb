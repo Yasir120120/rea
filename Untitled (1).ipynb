{
 "cells": [
  {
   "cell_type": "markdown",
   "id": "d430beb8-ac3c-40f0-a076-b8f406941339",
   "metadata": {},
   "source": [
    "Title of Notebook"
   ]
  },
  {
   "cell_type": "markdown",
   "id": "5c7eee61-81a1-4865-b414-cd261700917e",
   "metadata": {},
   "source": [
    "Introduction"
   ]
  },
  {
   "cell_type": "markdown",
   "id": "02696b3e-045b-4aad-a143-2e7b00cf57f0",
   "metadata": {},
   "source": [
    "Data Science Languages:\n",
    "Python\n",
    "R\n",
    "SQL"
   ]
  },
  {
   "cell_type": "markdown",
   "id": "97781a7a-2985-4231-8394-f283511e7fb0",
   "metadata": {},
   "source": [
    "Data Science Libraries:\n",
    "Numpy\n",
    "Pandas\n",
    "Seaborn\n",
    "Matplotlib"
   ]
  },
  {
   "cell_type": "markdown",
   "id": "b1a581f7-39e2-40ec-80f1-79a3d646c631",
   "metadata": {},
   "source": [
    "Tools:\n",
    "Python\n",
    "R\n",
    "Jupyter Notebook\n",
    "Pandas\n",
    "TensorFlow\n",
    "Tableau\n",
    "SQL"
   ]
  },
  {
   "cell_type": "code",
   "execution_count": null,
   "id": "ef1e7bb8-7bdf-4b81-9dd8-e4bee7e87841",
   "metadata": {},
   "outputs": [],
   "source": [
    "a+b=c\n",
    "2+2=4"
   ]
  },
  {
   "cell_type": "code",
   "execution_count": 1,
   "id": "fff5e97a-39b1-4471-b1ef-7e6001b1b37b",
   "metadata": {},
   "outputs": [
    {
     "data": {
      "text/plain": [
       "10"
      ]
     },
     "execution_count": 1,
     "metadata": {},
     "output_type": "execute_result"
    }
   ],
   "source": [
    "2+2\n",
    "3*4\n",
    "2+2*4"
   ]
  },
  {
   "cell_type": "code",
   "execution_count": null,
   "id": "a7149142-372a-4c4f-b7ef-4e39b07cef5e",
   "metadata": {},
   "outputs": [],
   "source": [
    "Hour=60 minutes\n",
    "1 minute=Hour/60"
   ]
  },
  {
   "cell_type": "markdown",
   "id": "34828581-9aab-4534-8184-6796f83b3d90",
   "metadata": {},
   "source": [
    "The objectives of data science summarized:\r\n",
    "\r\n",
    "Extract Insights: Data science aims to extract meaningful insights and patterns from raw data to inform decision-making.\r\n",
    "Predictive Modeling: Building models to forecast future trends, behaviors, or outcomes based on historical data.\r\n",
    "Optimization: Using data-driven approaches to optimize processes, systems, or strategies for improved efficiency and performance.\r\n",
    "Pattern Recognition: Identifying patterns, correlations, and anomalies within data sets to understand underlying phenomena.\r\n"
   ]
  },
  {
   "cell_type": "code",
   "execution_count": null,
   "id": "19ee130e-584e-424c-8b23-ec38cc7d7671",
   "metadata": {},
   "outputs": [],
   "source": [
    "Author name=Yasir Ali"
   ]
  },
  {
   "cell_type": "code",
   "execution_count": null,
   "id": "b1f3bdea-703e-401b-b8fe-18cb4f68d6d4",
   "metadata": {},
   "outputs": [],
   "source": []
  }
 ],
 "metadata": {
  "kernelspec": {
   "display_name": "Python 3 (ipykernel)",
   "language": "python",
   "name": "python3"
  },
  "language_info": {
   "codemirror_mode": {
    "name": "ipython",
    "version": 3
   },
   "file_extension": ".py",
   "mimetype": "text/x-python",
   "name": "python",
   "nbconvert_exporter": "python",
   "pygments_lexer": "ipython3",
   "version": "3.11.7"
  }
 },
 "nbformat": 4,
 "nbformat_minor": 5
}
